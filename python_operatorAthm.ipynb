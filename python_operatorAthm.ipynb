{
  "nbformat": 4,
  "nbformat_minor": 0,
  "metadata": {
    "colab": {
      "provenance": [],
      "authorship_tag": "ABX9TyOGtr54nQtTga0nlbpiQXht",
      "include_colab_link": true
    },
    "kernelspec": {
      "name": "python3",
      "display_name": "Python 3"
    },
    "language_info": {
      "name": "python"
    }
  },
  "cells": [
    {
      "cell_type": "markdown",
      "metadata": {
        "id": "view-in-github",
        "colab_type": "text"
      },
      "source": [
        "<a href=\"https://colab.research.google.com/github/Omdena-Bhutan/02-data-structures-assignment-team-6/blob/main/python_operatorAthm.ipynb\" target=\"_parent\"><img src=\"https://colab.research.google.com/assets/colab-badge.svg\" alt=\"Open In Colab\"/></a>"
      ]
    },
    {
      "cell_type": "code",
      "execution_count": null,
      "metadata": {
        "colab": {
          "base_uri": "https://localhost:8080/"
        },
        "id": "nX_N6hg_d1zK",
        "outputId": "3030032e-946d-4d79-c36c-25125dc487c2"
      },
      "outputs": [
        {
          "output_type": "stream",
          "name": "stdout",
          "text": [
            "13\n",
            "7\n",
            "30\n",
            "3.3333333333333335\n",
            "1\n",
            "1000\n",
            "3\n"
          ]
        }
      ],
      "source": [
        "# Arithmetic Operators\n",
        "x = 10\n",
        "y = 3\n",
        "\n",
        "print(x + y)\n",
        "print(x - y)\n",
        "print(x * y)\n",
        "print(x / y)\n",
        "print(x % y)\n",
        "print(x ** y)\n",
        "print(x // y)\n",
        "\n"
      ]
    },
    {
      "cell_type": "code",
      "source": [
        "# 2. Comparison Operators\n",
        "a = 5\n",
        "b = 10\n",
        "\n",
        "print(a == b)  # Equal → False\n",
        "print(a != b)  # Not equal → True\n",
        "print(a > b)   # Greater than → False\n",
        "print(a < b)   # Less than → True\n",
        "print(a >= 5)  # Greater or equal → True\n",
        "print(b <= 10) # Less or equal → True\n"
      ],
      "metadata": {
        "colab": {
          "base_uri": "https://localhost:8080/"
        },
        "id": "KdAhu7GqgFyM",
        "outputId": "34363e19-5b70-4f97-c33a-21bfd71e1d4b"
      },
      "execution_count": null,
      "outputs": [
        {
          "output_type": "stream",
          "name": "stdout",
          "text": [
            "False\n",
            "True\n",
            "False\n",
            "True\n",
            "True\n",
            "True\n"
          ]
        }
      ]
    },
    {
      "cell_type": "code",
      "source": [
        "# 3. Logical Operators\n",
        "x = 7\n",
        "\n",
        "print(x > 5 and x < 10)  # True (both conditions true)\n",
        "print(x > 10 or x < 5)   # False (both false)\n",
        "print(not(x > 5))        # False (opposite of Tru"
      ],
      "metadata": {
        "colab": {
          "base_uri": "https://localhost:8080/"
        },
        "id": "8QX2uvyOgWbp",
        "outputId": "e1c92d4b-cae8-4c6b-8618-203d742f1ad2"
      },
      "execution_count": null,
      "outputs": [
        {
          "output_type": "stream",
          "name": "stdout",
          "text": [
            "True\n",
            "False\n",
            "False\n"
          ]
        }
      ]
    },
    {
      "cell_type": "code",
      "source": [
        "# 4. Assignment Operators\n",
        "num = 10\n",
        "\n",
        "num += 5\n",
        "num -= 3\n",
        "num *= 2\n",
        "num /= 4\n",
        "num %= 4\n"
      ],
      "metadata": {
        "id": "W148N2ELgmmJ"
      },
      "execution_count": null,
      "outputs": []
    },
    {
      "cell_type": "code",
      "source": [
        "# 6. Identity Operators\n",
        "x = [1,2,3]\n",
        "y = x\n",
        "z = [1,2,3]\n",
        "\n",
        "print(x is y)      # True (same object in memory)\n",
        "print(x is z)      # False (different objects, same values)\n",
        "print(x is not z)  # True\n"
      ],
      "metadata": {
        "colab": {
          "base_uri": "https://localhost:8080/"
        },
        "id": "XeEOnWdChDQS",
        "outputId": "40e1a0b4-a7b4-4d49-8292-b82c2bdd5557"
      },
      "execution_count": null,
      "outputs": [
        {
          "output_type": "stream",
          "name": "stdout",
          "text": [
            "True\n",
            "False\n",
            "True\n"
          ]
        }
      ]
    },
    {
      "cell_type": "code",
      "source": [
        "# right shiff\n",
        "5>>4"
      ],
      "metadata": {
        "colab": {
          "base_uri": "https://localhost:8080/"
        },
        "id": "m4tcw2Lchliq",
        "outputId": "6c67eaf2-d385-4529-ac3d-c6f2588268df"
      },
      "execution_count": null,
      "outputs": [
        {
          "output_type": "execute_result",
          "data": {
            "text/plain": [
              "0"
            ]
          },
          "metadata": {},
          "execution_count": 12
        }
      ]
    }
  ]
}