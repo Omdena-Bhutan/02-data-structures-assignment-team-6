{
  "nbformat": 4,
  "nbformat_minor": 0,
  "metadata": {
    "colab": {
      "provenance": [],
      "authorship_tag": "ABX9TyMztOpqWO1EP3AShJlj5YTk",
      "include_colab_link": true
    },
    "kernelspec": {
      "name": "python3",
      "display_name": "Python 3"
    },
    "language_info": {
      "name": "python"
    }
  },
  "cells": [
    {
      "cell_type": "markdown",
      "metadata": {
        "id": "view-in-github",
        "colab_type": "text"
      },
      "source": [
        "<a href=\"https://colab.research.google.com/github/Omdena-Bhutan/02-data-structures-assignment-team-6/blob/main/Test_Intro_Ram.ipynb\" target=\"_parent\"><img src=\"https://colab.research.google.com/assets/colab-badge.svg\" alt=\"Open In Colab\"/></a>"
      ]
    },
    {
      "cell_type": "code",
      "execution_count": null,
      "metadata": {
        "colab": {
          "base_uri": "https://localhost:8080/"
        },
        "id": "S10fDqxuQWMT",
        "outputId": "b8188009-8fe0-4629-c292-f04fa8a735a2"
      },
      "outputs": [
        {
          "output_type": "stream",
          "name": "stdout",
          "text": [
            "hello Ram\n"
          ]
        }
      ],
      "source": [
        "print (\"hello Ram\")\n"
      ]
    },
    {
      "cell_type": "code",
      "source": [
        "# Create a list of fruits\n",
        "fruits = [\"apple\", \"banana\", \"cherry\"]\n",
        "\n",
        "# Print the list\n",
        "print(fruits)\n"
      ],
      "metadata": {
        "colab": {
          "base_uri": "https://localhost:8080/"
        },
        "id": "9ZyZVKcQRYjb",
        "outputId": "77a48451-24fa-4ee6-93ae-0842231c0604"
      },
      "execution_count": null,
      "outputs": [
        {
          "output_type": "stream",
          "name": "stdout",
          "text": [
            "['apple', 'banana', 'cherry']\n"
          ]
        }
      ]
    },
    {
      "cell_type": "code",
      "source": [
        "# Create a list of fruits\n",
        "fruits = [\"apple\", \"banana\", \"cherry\"]\n",
        "\n",
        "# Remove 'banana' from the list\n",
        "fruits.remove(\"banana\")\n",
        "\n",
        "# Print the updated list\n",
        "print(fruits)\n"
      ],
      "metadata": {
        "colab": {
          "base_uri": "https://localhost:8080/"
        },
        "id": "mv55bvx6SizO",
        "outputId": "690c6540-451f-4409-a87f-a9a5c7f4dea7"
      },
      "execution_count": null,
      "outputs": [
        {
          "output_type": "stream",
          "name": "stdout",
          "text": [
            "['apple', 'cherry']\n"
          ]
        }
      ]
    },
    {
      "cell_type": "code",
      "source": [
        "# Create a list of fruits\n",
        "fruits = [\"apple\", \"cherry\"]\n",
        "\n",
        "# Add 'mango' to the list\n",
        "fruits.append(\"mango\")\n",
        "\n",
        "# Print the updated list\n",
        "print(fruits)\n"
      ],
      "metadata": {
        "colab": {
          "base_uri": "https://localhost:8080/"
        },
        "id": "1PVYvbkHStJv",
        "outputId": "442a948e-eee3-44f4-c2f0-3bd823c82071"
      },
      "execution_count": null,
      "outputs": [
        {
          "output_type": "stream",
          "name": "stdout",
          "text": [
            "['apple', 'cherry', 'mango']\n"
          ]
        }
      ]
    },
    {
      "cell_type": "code",
      "source": [
        "# Current list\n",
        "fruits = [\"apple\", \"cherry\", \"mango\"]\n",
        "\n",
        "# Insert 'orange' at the beginning (index 0)\n",
        "fruits.insert(0, \"orange\")\n",
        "\n",
        "# Print the updated list\n",
        "print(fruits)\n"
      ],
      "metadata": {
        "colab": {
          "base_uri": "https://localhost:8080/"
        },
        "id": "rF4ljsMhTHol",
        "outputId": "772b4574-4851-4f0b-9e84-5c4dff66b427"
      },
      "execution_count": null,
      "outputs": [
        {
          "output_type": "stream",
          "name": "stdout",
          "text": [
            "['orange', 'apple', 'cherry', 'mango']\n"
          ]
        }
      ]
    }
  ]
}